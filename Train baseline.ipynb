{
 "cells": [
  {
   "cell_type": "code",
   "execution_count": 2,
   "id": "0d62fc0d",
   "metadata": {},
   "outputs": [],
   "source": [
    "from __future__ import print_function, division\n",
    "\n",
    "import torch\n",
    "import torch.nn as nn\n",
    "import torch.optim as optim\n",
    "from torch.optim import lr_scheduler\n",
    "import torch.backends.cudnn as cudnn\n",
    "from torch.utils.data import Subset, DataLoader\n",
    "\n",
    "import numpy as np\n",
    "import torchvision\n",
    "from torchvision import datasets, models, transforms\n",
    "import matplotlib.pyplot as plt\n",
    "import time\n",
    "import os\n",
    "import copy\n",
    "\n",
    "cudnn.benchmark = True\n",
    "\n",
    "import pandas as pd\n",
    "import pickle\n",
    "\n",
    "import HSIC"
   ]
  },
  {
   "cell_type": "code",
   "execution_count": 4,
   "id": "2bd954d8",
   "metadata": {},
   "outputs": [],
   "source": [
    "a_file = open(\"data.pkl\", \"rb\")\n",
    "feature_dict = pickle.load(a_file)"
   ]
  },
  {
   "cell_type": "code",
   "execution_count": 5,
   "id": "5f6044b8",
   "metadata": {},
   "outputs": [
    {
     "name": "stdout",
     "output_type": "stream",
     "text": [
      "181\n"
     ]
    }
   ],
   "source": [
    "print(len(feature_dict['photo'][2]))"
   ]
  },
  {
   "cell_type": "code",
   "execution_count": 32,
   "id": "93df399e",
   "metadata": {},
   "outputs": [
    {
     "data": {
      "text/plain": [
       "torch.Size([128, 512])"
      ]
     },
     "execution_count": 32,
     "metadata": {},
     "output_type": "execute_result"
    }
   ],
   "source": [
    "BATCH_SIZE = 128\n",
    "\n",
    "photo = torch.stack(feature_dict['photo'][3][:BATCH_SIZE]).squeeze()\n",
    "sketch = torch.stack(feature_dict['sketch'][3][:BATCH_SIZE]).squeeze()\n",
    "cartoon = torch.stack(feature_dict['cartoon'][3][:BATCH_SIZE]).squeeze()\n",
    "\n",
    "# x = torch.stack(x)\n",
    "\n",
    "# y = torch.stack(y)\n",
    "\n",
    "x.shape"
   ]
  },
  {
   "cell_type": "code",
   "execution_count": 33,
   "id": "6decee40",
   "metadata": {},
   "outputs": [
    {
     "name": "stdout",
     "output_type": "stream",
     "text": [
      "tensor(0.2519)\n",
      "tensor(0.2397)\n",
      "tensor(0.2375)\n"
     ]
    }
   ],
   "source": [
    "print(HSIC.hsic_normalized(cartoon, photo, use_cuda=False))\n",
    "\n",
    "print(HSIC.hsic_normalized(photo, sketch, use_cuda=False))\n",
    "\n",
    "print(HSIC.hsic_normalized(cartoon, sketch, use_cuda=False))"
   ]
  },
  {
   "cell_type": "code",
   "execution_count": null,
   "id": "f6a0e6a0",
   "metadata": {},
   "outputs": [],
   "source": []
  }
 ],
 "metadata": {
  "kernelspec": {
   "display_name": "Python 3 (ipykernel)",
   "language": "python",
   "name": "python3"
  },
  "language_info": {
   "codemirror_mode": {
    "name": "ipython",
    "version": 3
   },
   "file_extension": ".py",
   "mimetype": "text/x-python",
   "name": "python",
   "nbconvert_exporter": "python",
   "pygments_lexer": "ipython3",
   "version": "3.9.7"
  }
 },
 "nbformat": 4,
 "nbformat_minor": 5
}
